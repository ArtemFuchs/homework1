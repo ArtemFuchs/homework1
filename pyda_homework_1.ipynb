{
 "cells": [
  {
   "cell_type": "markdown",
   "metadata": {},
   "source": [
    "**Задание 1**. Даны 2 строки: *long_phrase* и *short_phrase*. \n",
    "Напишите код, который проверяет действительно ли длинная фраза *long_phrase* длиннее короткой *short_phrase*. И выводит *True* или *False* в зависимости от результата сравнения."
   ]
  },
  {
   "cell_type": "code",
   "execution_count": null,
   "metadata": {},
   "outputs": [],
   "source": [
    "long_phrase = 'Насколько проще было бы писать программы, если бы не заказчики'\n",
    "short_phrase = '640Кб должно хватить для любых задач. Билл Гейтс (по легенде)'"
   ]
  },
  {
   "cell_type": "code",
   "execution_count": 4,
   "metadata": {},
   "outputs": [
    {
     "name": "stdout",
     "output_type": "stream",
     "text": [
      "False\n"
     ]
    }
   ],
   "source": [
    "print('long_phrase' > 'short_phrase')"
   ]
  },
  {
   "cell_type": "markdown",
   "metadata": {},
   "source": [
    "**Задание 2**. Дано значение объема файла в байтах. Напишите перевод этого значения в мегабайты в формате: \"*Объем файла равен 213.68Mb*\""
   ]
  },
  {
   "cell_type": "code",
   "execution_count": 25,
   "metadata": {},
   "outputs": [
    {
     "name": "stdout",
     "output_type": "stream",
     "text": [
      "Введите объём файла в байтах:1048576\n",
      "Объём файла равен 1.0 Mb\n"
     ]
    }
   ],
   "source": [
    "file_size = int(input('Введите объём файла в байтах:'))\n",
    "floor = file_size // (1024 ** 2)\n",
    "fractional_part = (file_size - (1024 ** 2) * floor) / (1024 ** 2)\n",
    "print('Объём файла равен', floor + fractional_part,'Mb')\n"
   ]
  },
  {
   "cell_type": "markdown",
   "metadata": {},
   "source": [
    "**Задание 3**. Разработать приложение для определения знака зодиака по дате рождения. Пример:\n",
    "\n",
    "Введите месяц: март\n",
    "\n",
    "Введите число: 6\n",
    "\n",
    "Вывод:\n",
    "Рыбы"
   ]
  },
  {
   "cell_type": "code",
   "execution_count": 27,
   "metadata": {},
   "outputs": [
    {
     "name": "stdout",
     "output_type": "stream",
     "text": [
      "Введите месяц:Февраль\n",
      "Введите число:22\n",
      "Вывод: Рыбы\n"
     ]
    }
   ],
   "source": [
    "month = input('Введите месяц:')\n",
    "day = int(input('Введите число:'))\n",
    "if month == 'Январь':\n",
    "    if day <= 19:\n",
    "        print('Вывод: Козерог')\n",
    "    else:\n",
    "        print('Вывод: Водолей')\n",
    "elif month == 'Февраль':\n",
    "    if day <= 18:\n",
    "        print('Вывод: Водолей')\n",
    "    else:\n",
    "        print('Вывод: Рыбы')\n",
    "elif month == 'Март':\n",
    "    if day <= 20:\n",
    "        print('Вывод: Рыбы')\n",
    "    else:\n",
    "        print('Вывод: Овен')\n",
    "elif month == 'Апрель':\n",
    "    if day <= 19:\n",
    "        print('Вывод: Овен')\n",
    "    else:\n",
    "        print('Вывод: Телец')\n",
    "elif month == 'Май':\n",
    "    if day <= 20:\n",
    "        print('Вывод: Телец')\n",
    "    else:\n",
    "        print('Вывод: Близнецы')\n",
    "elif month == 'Июнь':\n",
    "    if day <= 20:\n",
    "        print('Вывод: Близнецы')\n",
    "    else:\n",
    "        print('Вывод: Рак')\n",
    "elif month == 'Июль':\n",
    "    if day <= 22:\n",
    "        print('Вывод: Рак')\n",
    "    else:\n",
    "        print('Вывод: Лев')\n",
    "elif month == 'Август':\n",
    "    if day <= 22:\n",
    "        print('Вывод: Лев')\n",
    "    else:\n",
    "        print('Вывод: Дева')\n",
    "elif month == 'Сентябрь':\n",
    "    if day <= 22:\n",
    "        print('Вывод: Дева')\n",
    "    else:\n",
    "        print('Вывод: Весы')\n",
    "elif month == 'Октябрь':\n",
    "    if day <= 22:\n",
    "        print('Вывод: Весы')\n",
    "    else:\n",
    "        print('Вывод: Скорпион')\n",
    "elif month == 'Ноябрь':\n",
    "    if day <= 21:\n",
    "        print('Вывод: Скорпион')\n",
    "    else:\n",
    "        print('Вывод: Стрелец')\n",
    "elif month == 'Декабрь':\n",
    "    if day <= 21:\n",
    "        print('Вывод: Стрелец')\n",
    "    else:\n",
    "        print('Вывод: Козерог')"
   ]
  },
  {
   "cell_type": "markdown",
   "metadata": {},
   "source": [
    "**Задание 4**. Нужно разработать приложение для финансового планирования.\n",
    "Приложение учитывает сколько уходит на ипотеку, \"на жизнь\" и сколько нужно отложить на пенсию.\n",
    "Пользователь вводит:\n",
    "- заработанную плату в месяц.\n",
    "- сколько процентов от ЗП уходит на ипотеку.\n",
    "- сколько процентов от ЗП уходит \"на жизнь\".\n",
    "- сколько раз приходит премия в год.\n",
    "\n",
    "Остальная часть заработанной платы откладывается на пенсию.\n",
    "\n",
    "Также пользователю приходит премия в размере зарплаты, от которой половина уходит на отпуск, а вторая половина откладывается.\n",
    "\n",
    "Программа должна учитывать сколько премий было в год.\n",
    "\n",
    "Нужно вывести сколько денег тратит пользователь на ипотеку и сколько он накопит за год.\n",
    "\n",
    "Пример:\n",
    "\n",
    "Введите заработанную плату в месяц: 100000\n",
    "\n",
    "Введите сколько процентов уходит на ипотеку: 30\n",
    "\n",
    "Введите сколько процентов уходит на жизнь: 50\n",
    "\n",
    "Введите количество премий за год: 2\n",
    "\n",
    "Вывод:\n",
    "На ипотеку было потрачено: 360000 рублей\n",
    "Было накоплено: 340000 рублей"
   ]
  },
  {
   "cell_type": "code",
   "execution_count": 30,
   "metadata": {},
   "outputs": [
    {
     "name": "stdout",
     "output_type": "stream",
     "text": [
      "Введите заработанную плату в месяц:1000\n",
      "Введите сколько процентов уходит на ипотеку:10\n",
      "Введите сколько процентов уходит на жизнь:30\n",
      "Введите количество премий за год:0\n",
      "На ипотеку было потрачено:  1200.0 рублей\n",
      "Было накоплено:  7200.0 рублей\n"
     ]
    }
   ],
   "source": [
    "salary = int(input('Введите заработанную плату в месяц:'))\n",
    "loan = int(input('Введите сколько процентов уходит на ипотеку:'))\n",
    "spendings = int(input('Введите сколько процентов уходит на жизнь:'))\n",
    "pay_rise = int(input('Введите количество премий за год:'))\n",
    "income = (salary - salary / 100 * loan - salary / 100 * spendings) * 12 + pay_rise * salary / 2\n",
    "loan_total = 12 * salary / 100 * loan\n",
    "print('На ипотеку было потрачено: ', loan_total, 'рублей')\n",
    "print('Было накоплено: ', income, 'рублей')\n",
    "\n"
   ]
  },
  {
   "cell_type": "code",
   "execution_count": null,
   "metadata": {},
   "outputs": [],
   "source": []
  }
 ],
 "metadata": {
  "kernelspec": {
   "display_name": "Python 3",
   "language": "python",
   "name": "python3"
  },
  "language_info": {
   "codemirror_mode": {
    "name": "ipython",
    "version": 3
   },
   "file_extension": ".py",
   "mimetype": "text/x-python",
   "name": "python",
   "nbconvert_exporter": "python",
   "pygments_lexer": "ipython3",
   "version": "3.7.1"
  }
 },
 "nbformat": 4,
 "nbformat_minor": 2
}
