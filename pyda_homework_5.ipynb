{
 "cells": [
  {
   "cell_type": "markdown",
   "metadata": {},
   "source": []
  },
  {
   "cell_type": "code",
   "execution_count": null,
   "metadata": {},
   "outputs": [],
   "source": [
    "import json"
   ]
  },
  {
   "cell_type": "code",
   "execution_count": null,
   "metadata": {},
   "outputs": [],
   "source": [
    "with open('purchase_log.txt', encoding='utf-8') as f:\n",
    "    purchases = {}\n",
    "    for line in f:\n",
    "        line = line.strip() \n",
    "        dict_ = json.loads(line)\n",
    "        purchases[dict_['user_id']] = dict_['category']"
   ]
  },
  {
   "cell_type": "code",
   "execution_count": null,
   "metadata": {},
   "outputs": [],
   "source": [
    "with open('funnel.csv', 'w', encoding='utf-8') as w:\n",
    "    with open('visit_log.csv', 'r', encoding='utf-8') as v:\n",
    "        dict_ = []\n",
    "        for line in v:\n",
    "            dict_ = line.strip().split(',')\n",
    "            user_id = dict_[0]\n",
    "            source = dict_[1]\n",
    "            if user_id in purchases.keys():\n",
    "                line = str(user_id + ',' + source + ',' + purchases[user_id] + '\\n')\n",
    "                w.write(line)"
   ]
  }
 ],
 "metadata": {
  "kernelspec": {
   "display_name": "Python 3",
   "language": "python",
   "name": "python3"
  },
  "language_info": {
   "codemirror_mode": {
    "name": "ipython",
    "version": 3
   },
   "file_extension": ".py",
   "mimetype": "text/x-python",
   "name": "python",
   "nbconvert_exporter": "python",
   "pygments_lexer": "ipython3",
   "version": "3.7.1"
  }
 },
 "nbformat": 4,
 "nbformat_minor": 2
}
