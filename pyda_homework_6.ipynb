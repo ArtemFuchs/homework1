{
 "cells": [
  {
   "cell_type": "markdown",
   "metadata": {},
   "source": [
    "# Домашнее задание к лекции \"Регулярные выражения\"\n",
    "Для зачета необходимо выполнить 4 задания.  \n",
    "Для зачета с отличием – все."
   ]
  },
  {
   "cell_type": "markdown",
   "metadata": {},
   "source": [
    "## Задание 1"
   ]
  },
  {
   "cell_type": "markdown",
   "metadata": {},
   "source": [
    "Напишите функцию, которая принимает на вход строку и проверяет является ли она валидным транспортным номером. Если да, то функция должна возвращать отдельно номер и регион."
   ]
  },
  {
   "cell_type": "code",
   "execution_count": 1,
   "metadata": {},
   "outputs": [],
   "source": [
    "import re"
   ]
  },
  {
   "cell_type": "code",
   "execution_count": 49,
   "metadata": {},
   "outputs": [
    {
     "name": "stdout",
     "output_type": "stream",
     "text": [
      "Номер 134, регион 22\n"
     ]
    }
   ],
   "source": [
    "number = 'А134БВ22'\n",
    "#pattern = '[A-Z]{1}(\\d{3})[A-Z]{2}(\\d{2})'\n",
    "\n",
    "result = re.sub(r'([А-Я]{1})(\\d{3})([А-Я]{2})(\\d{2})', r'Номер \\2, регион \\4', number)\n",
    "if result == number:\n",
    "    print('not valid')\n",
    "else:\n",
    "    print(result)"
   ]
  },
  {
   "cell_type": "markdown",
   "metadata": {},
   "source": [
    "## Задание 2"
   ]
  },
  {
   "cell_type": "markdown",
   "metadata": {},
   "source": [
    "Напишите функцию, которая проверяет e-mail адрес на валидность по стандарту RFC822: http://www.w3.org/Protocols/rfc822/. Для этого постарайтесь написать (в крайнем случае найти) самый полный шаблон для проверки e-mail адресов через регулярное выражение. Разберитесь и напишите примеры, какие ваш шаблон может не охватить."
   ]
  },
  {
   "cell_type": "code",
   "execution_count": 59,
   "metadata": {},
   "outputs": [],
   "source": [
    "def valid_email(email):\n",
    "    pattern = '^(([0-9A-Za-z]{1}[-0-9A-Za-z\\.]{1,}[0-9A-Za-z]{1})@([-0-9A-Za-z]{1,}\\.){1,2}[-A-Za-z]{2,})$'\n",
    "    result = re.match(pattern, email)\n",
    "    print('valid' if result else 'not valid')"
   ]
  },
  {
   "cell_type": "code",
   "execution_count": 79,
   "metadata": {},
   "outputs": [
    {
     "name": "stdout",
     "output_type": "stream",
     "text": [
      "valid\n"
     ]
    }
   ],
   "source": [
    "valid_email('testmail@yandex.ru')"
   ]
  },
  {
   "cell_type": "markdown",
   "metadata": {},
   "source": [
    "Не поддерживаются e-mail, которые могут быть написаны на кириллице, которые начинаются с точки, тире, содержащие нижнее подчёркивание, в которых больше двух блоков с точкой в почтовом сервере (не считая домена высшего уровня)"
   ]
  },
  {
   "cell_type": "markdown",
   "metadata": {},
   "source": [
    "## Задание 3\n",
    "Напишите функцию, которая будет удалять все последовательные повторы слов из заданной строки."
   ]
  },
  {
   "cell_type": "code",
   "execution_count": 23,
   "metadata": {},
   "outputs": [],
   "source": [
    "string = 'Классическая механика механика механика зародилась в в в древности и и и и начала начала начала формироваться в качестве самостоятельной отрасли,\\\n",
    "ранее других областей физики, главным образом в связи с проблемами,\\\n",
    "которые возникали при строительстве (подъёмные и транспортные машины, пирамиды древнего Египта),\\\n",
    "ремесленном производстве, судоходстве и военном деле (стенобитные и метательные машины).'"
   ]
  },
  {
   "cell_type": "code",
   "execution_count": 24,
   "metadata": {},
   "outputs": [],
   "source": [
    "def del_dup_word(string):\n",
    "    result = re.sub(r'\\b([^\\W\\d_]+)(\\s+\\1)+\\b', r'\\1', re.sub(r'\\W+', ' ', string).strip(), flags=re.I) \n",
    "    return result"
   ]
  },
  {
   "cell_type": "code",
   "execution_count": 25,
   "metadata": {},
   "outputs": [
    {
     "data": {
      "text/plain": [
       "'Классическая механика зародилась в древности и начала формироваться в качестве самостоятельной отрасли ранее других областей физики главным образом в связи с проблемами которые возникали при строительстве подъёмные и транспортные машины пирамиды древнего Египта ремесленном производстве судоходстве и военном деле стенобитные и метательные машины'"
      ]
     },
     "execution_count": 25,
     "metadata": {},
     "output_type": "execute_result"
    }
   ],
   "source": [
    "del_dup_word(string)\n"
   ]
  },
  {
   "cell_type": "markdown",
   "metadata": {},
   "source": [
    "## Задание 4\n",
    "Напишите функцию, которая будет проверять номер сотового телефона на валидность, если он валиден, то переводить его в формат:   \n",
    "+7(xxx)-xxx-xx-xx  \n",
    "Постарайтесь предусмотреть как можно больше адекватных форматов изначального ввода номера.\n",
    "Примеры правильных и неправильных форматов:\n",
    "- +7 955 555-55-55;\n",
    "- 955555555;\n",
    "- 8(955)555-55-55;\n",
    "- +7 955 555 55 55;\n",
    "- 7(955) 555-55-55;\n",
    "- +7 955+555+55+55."
   ]
  },
  {
   "cell_type": "code",
   "execution_count": 43,
   "metadata": {},
   "outputs": [],
   "source": [
    "number_list = ['89993334422', '+7(222)9867455', '+7 999 555 666 888',\n",
    "'+7 (666) 543 21 23', '+7 333 333-22-11', '8 888 222-22-23', '+7(222)986-74-55', '8(888)222-22-23', '8 888 222 22 23',\n",
    "'8 (888) 222 22 23'] "
   ]
  },
  {
   "cell_type": "code",
   "execution_count": 44,
   "metadata": {},
   "outputs": [],
   "source": [
    "def valid_phone_number(number):\n",
    "    #pattern = '^((8|\\+7)[\\- ]?)?(\\(?\\d{3}\\)?[\\- ]?)?[\\d\\- ]{7,10}$'\n",
    "    #pattern = '^\\+\\d{1,3}\\s?\\(\\d{3}\\)\\s?\\d{3}(-\\d{2}){2}$'   \n",
    "    pattern = '^(8|\\+7)?([\\-\\s])?(\\()?(\\d{3})?([\\-\\s])?(\\))?([\\-\\s])?(\\d{3})([\\-\\s])?(\\d{2})([\\-\\s])?(\\d{2})$'\n",
    "    result1 = re.match(pattern, number)\n",
    "    if result1:\n",
    "        result = re.sub(pattern, r'+7(\\4)-\\8-\\10-\\12', number)\n",
    "        print(result)\n",
    "    else:\n",
    "        print('not valid number')"
   ]
  },
  {
   "cell_type": "code",
   "execution_count": 45,
   "metadata": {},
   "outputs": [
    {
     "name": "stdout",
     "output_type": "stream",
     "text": [
      "+7(999)-333-44-22\n",
      "+7(222)-986-74-55\n",
      "not valid number\n",
      "+7(666)-543-21-23\n",
      "+7(333)-333-22-11\n",
      "+7(888)-222-22-23\n",
      "+7(222)-986-74-55\n",
      "+7(888)-222-22-23\n",
      "+7(888)-222-22-23\n",
      "+7(888)-222-22-23\n"
     ]
    },
    {
     "data": {
      "text/plain": [
       "[None, None, None, None, None, None, None, None, None, None]"
      ]
     },
     "execution_count": 45,
     "metadata": {},
     "output_type": "execute_result"
    }
   ],
   "source": [
    "[valid_phone_number(i) for i in number_list]"
   ]
  },
  {
   "cell_type": "code",
   "execution_count": null,
   "metadata": {},
   "outputs": [],
   "source": []
  },
  {
   "cell_type": "code",
   "execution_count": null,
   "metadata": {},
   "outputs": [],
   "source": []
  }
 ],
 "metadata": {
  "kernelspec": {
   "display_name": "Python 3",
   "language": "python",
   "name": "python3"
  },
  "language_info": {
   "codemirror_mode": {
    "name": "ipython",
    "version": 3
   },
   "file_extension": ".py",
   "mimetype": "text/x-python",
   "name": "python",
   "nbconvert_exporter": "python",
   "pygments_lexer": "ipython3",
   "version": "3.7.1"
  }
 },
 "nbformat": 4,
 "nbformat_minor": 2
}
