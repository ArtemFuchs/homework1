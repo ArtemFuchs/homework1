{
 "cells": [
  {
   "cell_type": "markdown",
   "metadata": {},
   "source": [
    "**Домашнее задание**"
   ]
  },
  {
   "cell_type": "markdown",
   "metadata": {},
   "source": [
    "**Задание 1**\n",
    "Скачайте с сайта https://grouplens.org/datasets/movielens/ датасет любого размера. Определите какому фильму было выставлено больше всего оценок 5.0."
   ]
  },
  {
   "cell_type": "code",
   "execution_count": 2,
   "metadata": {},
   "outputs": [],
   "source": [
    "import pandas as pd"
   ]
  },
  {
   "cell_type": "code",
   "execution_count": 3,
   "metadata": {},
   "outputs": [
    {
     "data": {
      "text/plain": [
       "'Shawshank Redemption, The (1994)'"
      ]
     },
     "execution_count": 3,
     "metadata": {},
     "output_type": "execute_result"
    }
   ],
   "source": [
    "ratings = pd.read_csv('ml-latest-small/ratings.csv')\n",
    "movies = pd.read_csv('ml-latest-small/movies.csv')\n",
    "filtered_ratings = ratings[ (ratings['rating'] == 5.0)]\n",
    "top_film_id = filtered_ratings['movieId'].value_counts().head(1).keys()[0]\n",
    "top_movie_title = movies[ (movies['movieId'] == top_film_id) ]['title'].tolist()[0]\n",
    "top_movie_title"
   ]
  },
  {
   "cell_type": "markdown",
   "metadata": {},
   "source": [
    "**Задание 2**\n",
    "По данным файла power.csv посчитайте суммарное потребление стран Прибалтики (Латвия, Литва и Эстония) категорий 4, 12 и 21 за период с 2005 по 2010 года. Не учитывайте в расчетах отрицательные значения quantity."
   ]
  },
  {
   "cell_type": "code",
   "execution_count": 22,
   "metadata": {},
   "outputs": [
    {
     "data": {
      "text/plain": [
       "26034247.62"
      ]
     },
     "execution_count": 22,
     "metadata": {},
     "output_type": "execute_result"
    }
   ],
   "source": [
    "power = pd.read_csv('power.csv')\n",
    "country_list = ['Lithuania', 'Estonia', 'Latvia']\n",
    "sum_quantity = 0\n",
    "year_start = 2005\n",
    "year_finish = 2010\n",
    "quantity_limit = 0\n",
    "for country in country_list:\n",
    "    filter1 = power[ (power['country'] == country)] \n",
    "    filter2 = filter1[ ((filter1['year'] >= year_start) & (filter1['year'] <= year_finish)) ]\n",
    "    filter3 = filter2[ (filter2['quantity'] >= quantity_limit) ]\n",
    "    sum_quantity += filter3['quantity'].sum()\n",
    "round(sum_quantity, 2)"
   ]
  },
  {
   "cell_type": "markdown",
   "metadata": {},
   "source": [
    "**Задание 3**\n",
    "Выберите страницу любого сайта с табличными данными. Импортируйте таблицы в pandas dataframe.\n",
    "Примеры страниц (необязательно брать именно эти): \n",
    "https://fortrader.org/quotes\n",
    "https://www.finanz.ru/valyuty/v-realnom-vremeni"
   ]
  },
  {
   "cell_type": "code",
   "execution_count": 6,
   "metadata": {},
   "outputs": [],
   "source": [
    "table = pd.read_html('https://fortrader.org/quotes')[1]"
   ]
  },
  {
   "cell_type": "code",
   "execution_count": 8,
   "metadata": {},
   "outputs": [
    {
     "name": "stdout",
     "output_type": "stream",
     "text": [
      "                                    Type          Last      Chg.  Chg.%  Time\n",
      "0                          ВТБ Акции ВТБ       0.04646  0.000000   0.00   NaN\n",
      "1                 Газпром Акции газпрома     226.60000     -0.26  -0.11   NaN\n",
      "2                    Лукойл Акции Лукойл    6561.00000     +16.0   0.20   NaN\n",
      "3                Роснефть Акции Роснефти     479.80000     -0.10  -0.02   NaN\n",
      "4               Сбербанк Акции Сбербанка     252.40000      0.00   0.00   NaN\n",
      "5   Сургутнефтегаз Акции Сургутнефтегаза      46.22500     0.000   0.00   NaN\n",
      "6              Норникель Акции Норникель   20766.00000        +2   0.00   NaN\n",
      "7               Аэрофлот Акции Аерофлота     107.44000     +0.04   0.04   NaN\n",
      "8            Северсталь Акции Северсталь     913.80000      0.00   0.00   NaN\n",
      "9            Транснефть Акции транснефти  164950.00000    -1 350  -1.00   NaN\n",
      "10     Ростелеком Курс акций ростелекома      88.05000    +15.22  20.90   NaN\n",
      "11                     RUSAL акции RUSAL       4.23000     +0.07   1.68   NaN \n",
      " <class 'pandas.core.frame.DataFrame'>\n"
     ]
    }
   ],
   "source": [
    "print(table, '\\n', type(table))"
   ]
  },
  {
   "cell_type": "code",
   "execution_count": null,
   "metadata": {},
   "outputs": [],
   "source": []
  }
 ],
 "metadata": {
  "kernelspec": {
   "display_name": "Python 3",
   "language": "python",
   "name": "python3"
  },
  "language_info": {
   "codemirror_mode": {
    "name": "ipython",
    "version": 3
   },
   "file_extension": ".py",
   "mimetype": "text/x-python",
   "name": "python",
   "nbconvert_exporter": "python",
   "pygments_lexer": "ipython3",
   "version": "3.7.1"
  }
 },
 "nbformat": 4,
 "nbformat_minor": 2
}
